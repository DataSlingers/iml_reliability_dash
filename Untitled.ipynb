{
 "cells": [
  {
   "cell_type": "code",
   "execution_count": 4,
   "id": "a403f737",
   "metadata": {},
   "outputs": [
    {
     "name": "stdout",
     "output_type": "stream",
     "text": [
      "[[2], [2]]\n"
     ]
    }
   ],
   "source": [
    "x=[1]\n",
    "y=[x]*2\n",
    "x[0]=2\n",
    "\n",
    "print(y)"
   ]
  },
  {
   "cell_type": "code",
   "execution_count": 17,
   "id": "e382de2e",
   "metadata": {},
   "outputs": [],
   "source": [
    "l1=[1,2,[3,5],4]\n",
    "l2=l1.copy()\n",
    "# l2[3]=7\n",
    "l2[2].append(6)"
   ]
  },
  {
   "cell_type": "code",
   "execution_count": 19,
   "id": "e4cac6f8",
   "metadata": {},
   "outputs": [],
   "source": [
    "class Employee:\n",
    "    def __init__(self,name,salary):\n",
    "        self.name=name\n",
    "        self.salary=salary\n",
    "    def level(self):\n",
    "        return 1\n",
    "    def b(self):\n",
    "        return self.salary*0.1\n",
    "class Manager(Employee):\n",
    "    def level(self):\n",
    "        return 2\n",
    "    "
   ]
  },
  {
   "cell_type": "code",
   "execution_count": 20,
   "id": "f296d809",
   "metadata": {},
   "outputs": [
    {
     "data": {
      "text/plain": [
       "2"
      ]
     },
     "execution_count": 20,
     "metadata": {},
     "output_type": "execute_result"
    }
   ],
   "source": [
    "m=Manager('J',50000)\n",
    "m.level()"
   ]
  },
  {
   "cell_type": "code",
   "execution_count": 21,
   "id": "9b4e1d38",
   "metadata": {},
   "outputs": [
    {
     "data": {
      "text/plain": [
       "5000.0"
      ]
     },
     "execution_count": 21,
     "metadata": {},
     "output_type": "execute_result"
    }
   ],
   "source": [
    "m.b()"
   ]
  },
  {
   "cell_type": "code",
   "execution_count": 23,
   "id": "4e20ce4f",
   "metadata": {},
   "outputs": [
    {
     "data": {
      "text/plain": [
       "8"
      ]
     },
     "execution_count": 23,
     "metadata": {},
     "output_type": "execute_result"
    }
   ],
   "source": [
    "def f1(var):\n",
    "    def f2(var):\n",
    "        var*=2\n",
    "        return var\n",
    "    return (f2(var)+f2(var))\n",
    "f1(2)"
   ]
  },
  {
   "cell_type": "code",
   "execution_count": null,
   "id": "20c12075",
   "metadata": {},
   "outputs": [],
   "source": []
  }
 ],
 "metadata": {
  "kernelspec": {
   "display_name": "Python 3 (ipykernel)",
   "language": "python",
   "name": "python3"
  },
  "language_info": {
   "codemirror_mode": {
    "name": "ipython",
    "version": 3
   },
   "file_extension": ".py",
   "mimetype": "text/x-python",
   "name": "python",
   "nbconvert_exporter": "python",
   "pygments_lexer": "ipython3",
   "version": "3.9.12"
  }
 },
 "nbformat": 4,
 "nbformat_minor": 5
}
