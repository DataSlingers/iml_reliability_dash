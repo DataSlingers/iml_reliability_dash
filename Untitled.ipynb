{
 "cells": [
  {
   "cell_type": "code",
   "execution_count": 1,
   "id": "seasonal-worst",
   "metadata": {},
   "outputs": [
    {
     "name": "stdout",
     "output_type": "stream",
     "text": [
      "Collecting dash-bootstrap-components\n",
      "  Using cached dash_bootstrap_components-1.0.3-py3-none-any.whl (209 kB)\n",
      "Collecting dash>=2.0.0\n",
      "  Using cached dash-2.3.0-py3-none-any.whl (9.6 MB)\n",
      "Collecting plotly>=5.0.0\n",
      "  Using cached plotly-5.6.0-py2.py3-none-any.whl (27.7 MB)\n",
      "Collecting importlib-metadata==4.8.3\n",
      "  Using cached importlib_metadata-4.8.3-py3-none-any.whl (17 kB)\n",
      "Collecting Flask>=1.0.4\n",
      "  Using cached Flask-2.0.3-py3-none-any.whl (95 kB)\n",
      "Collecting flask-compress\n",
      "  Using cached Flask_Compress-1.11-py3-none-any.whl (7.9 kB)\n",
      "Collecting dash-html-components==2.0.0\n",
      "  Using cached dash_html_components-2.0.0-py3-none-any.whl (4.1 kB)\n",
      "Collecting dash-core-components==2.0.0\n",
      "  Using cached dash_core_components-2.0.0-py3-none-any.whl (3.8 kB)\n",
      "Collecting dash-table==5.0.0\n",
      "  Using cached dash_table-5.0.0-py3-none-any.whl (3.9 kB)\n",
      "Requirement already satisfied: typing-extensions>=3.6.4 in /Users/alice/anaconda3/lib/python3.6/site-packages (from importlib-metadata==4.8.3->dash>=2.0.0->dash-bootstrap-components) (3.7.4.3)\n",
      "Requirement already satisfied: zipp>=0.5 in /Users/alice/anaconda3/lib/python3.6/site-packages (from importlib-metadata==4.8.3->dash>=2.0.0->dash-bootstrap-components) (3.6.0)\n",
      "Requirement already satisfied: Jinja2>=3.0 in /Users/alice/anaconda3/lib/python3.6/site-packages (from Flask>=1.0.4->dash>=2.0.0->dash-bootstrap-components) (3.0.0)\n",
      "Collecting itsdangerous>=2.0\n",
      "  Using cached itsdangerous-2.0.1-py3-none-any.whl (18 kB)\n",
      "Requirement already satisfied: Werkzeug>=2.0 in /Users/alice/anaconda3/lib/python3.6/site-packages (from Flask>=1.0.4->dash>=2.0.0->dash-bootstrap-components) (2.0.2)\n",
      "Requirement already satisfied: click>=7.1.2 in /Users/alice/anaconda3/lib/python3.6/site-packages (from Flask>=1.0.4->dash>=2.0.0->dash-bootstrap-components) (8.0.1)\n",
      "Requirement already satisfied: MarkupSafe>=2.0.0rc2 in /Users/alice/anaconda3/lib/python3.6/site-packages (from Jinja2>=3.0->Flask>=1.0.4->dash>=2.0.0->dash-bootstrap-components) (2.0.1)\n",
      "Collecting tenacity>=6.2.0\n",
      "  Using cached tenacity-8.0.1-py3-none-any.whl (24 kB)\n",
      "Requirement already satisfied: six in /Users/alice/anaconda3/lib/python3.6/site-packages (from plotly>=5.0.0->dash>=2.0.0->dash-bootstrap-components) (1.16.0)\n",
      "Requirement already satisfied: dataclasses in /Users/alice/anaconda3/lib/python3.6/site-packages (from Werkzeug>=2.0->Flask>=1.0.4->dash>=2.0.0->dash-bootstrap-components) (0.8)\n",
      "Collecting brotli\n",
      "  Using cached Brotli-1.0.9-cp36-cp36m-macosx_10_9_x86_64.whl (421 kB)\n",
      "\u001b[31mERROR: Could not install packages due to an OSError: [Errno 2] No such file or directory: '/Users/alice/anaconda3/lib/python3.6/site-packages/six-1.16.0.dist-info/METADATA'\n",
      "\u001b[0m\n"
     ]
    }
   ],
   "source": [
    "!pip install dash-bootstrap-components\n"
   ]
  },
  {
   "cell_type": "code",
   "execution_count": null,
   "id": "green-convertible",
   "metadata": {},
   "outputs": [],
   "source": []
  }
 ],
 "metadata": {
  "kernelspec": {
   "display_name": "Python 3",
   "language": "python",
   "name": "python3"
  },
  "language_info": {
   "codemirror_mode": {
    "name": "ipython",
    "version": 3
   },
   "file_extension": ".py",
   "mimetype": "text/x-python",
   "name": "python",
   "nbconvert_exporter": "python",
   "pygments_lexer": "ipython3",
   "version": "3.6.13"
  }
 },
 "nbformat": 4,
 "nbformat_minor": 5
}
